{
  "nbformat": 4,
  "nbformat_minor": 0,
  "metadata": {
    "colab": {
      "provenance": [],
      "gpuType": "T4"
    },
    "kernelspec": {
      "name": "python3",
      "display_name": "Python 3"
    },
    "language_info": {
      "name": "python"
    },
    "accelerator": "GPU"
  },
  "cells": [
    {
      "cell_type": "code",
      "source": [
        "from zipfile import ZipFile\n",
        "\n",
        "# specifying the zip file name\n",
        "file_name = \"/content/drive/MyDrive/VinaFood21.zip\"\n",
        "\n",
        "# opening the zip file in READ mode\n",
        "with ZipFile(file_name, 'r') as zip:\n",
        "    # printing all the contents of the zip file\n",
        "    zip.printdir()\n",
        "\n",
        "    # extracting all the files\n",
        "    print('Extracting all the files now...')\n",
        "    zip.extractall()\n",
        "    print('Done!')"
      ],
      "metadata": {
        "id": "jEOgeFIQjf9S"
      },
      "execution_count": null,
      "outputs": []
    },
    {
      "cell_type": "code",
      "source": [
        "from PIL import Image\n",
        "import cv2\n",
        "import numpy as np\n",
        "import glob\n",
        "from sklearn.preprocessing import StandardScaler\n",
        "scaler = StandardScaler()"
      ],
      "metadata": {
        "id": "QdvBO7dMe5HD"
      },
      "execution_count": 2,
      "outputs": []
    },
    {
      "cell_type": "code",
      "source": [
        "tm=['/content/VinaFood21/train/banh-can','/content/VinaFood21/train/banh-hoi','/content/VinaFood21/train/banh-mi-chao','/content/VinaFood21/train/banh-tet','/content/VinaFood21/train/banh-trang-tron','/content/VinaFood21/train/banh-u','/content/VinaFood21/train/banh-uot','/content/VinaFood21/train/bap-nuong','/content/VinaFood21/train/bo-kho','/content/VinaFood21/train/bo-la-lot','/content/VinaFood21/train/bot-chien','/content/VinaFood21/train/ca-ri','/content/VinaFood21/train/canh-kho-qua','/content/VinaFood21/train/canh-khoai-mo','/content/VinaFood21/train/ga-nuong','/content/VinaFood21/train/goi-ga','/content/VinaFood21/train/ha-cao','/content/VinaFood21/train/hoanh-thanh-nuoc','/content/VinaFood21/train/pha-lau','/content/VinaFood21/train/tau-hu','/content/VinaFood21/train/thit-kho-trung']\n",
        "train = []\n",
        "train_lb=[]\n",
        "l=0\n",
        "for i in tm:\n",
        "  l=l+1\n",
        "  for filename in glob.glob(i+'/*.jpg'):\n",
        "    image = cv2.imread(filename)\n",
        "    img=cv2.resize(image, (128, 128))\n",
        "    train.append(img)\n",
        "    train_lb.append(l)\n"
      ],
      "metadata": {
        "id": "q-JraO-PkjT9"
      },
      "execution_count": 14,
      "outputs": []
    },
    {
      "cell_type": "code",
      "source": [
        "tm=['/content/VinaFood21/test/banh-can','/content/VinaFood21/test/banh-hoi','/content/VinaFood21/test/banh-mi-chao','/content/VinaFood21/test/banh-tet','/content/VinaFood21/test/banh-trang-tron','/content/VinaFood21/test/banh-u','/content/VinaFood21/test/banh-uot','/content/VinaFood21/test/bap-nuong','/content/VinaFood21/test/bo-kho','/content/VinaFood21/test/bo-la-lot','/content/VinaFood21/test/bot-chien','/content/VinaFood21/test/ca-ri','/content/VinaFood21/test/canh-kho-qua','/content/VinaFood21/test/canh-khoai-mo','/content/VinaFood21/test/ga-nuong','/content/VinaFood21/test/goi-ga','/content/VinaFood21/test/ha-cao','/content/VinaFood21/test/hoanh-thanh-nuoc','/content/VinaFood21/test/pha-lau','/content/VinaFood21/test/tau-hu','/content/VinaFood21/test/thit-kho-trung']\n",
        "test = []\n",
        "test_lb=[]\n",
        "l=0\n",
        "for i in tm:\n",
        "  l=l+1\n",
        "  for filename in glob.glob(i+'/*.jpg'):\n",
        "    image = cv2.imread(filename)\n",
        "    img=cv2.resize(image, (128, 128))\n",
        "    test.append(img)\n",
        "    test_lb.append(l)\n"
      ],
      "metadata": {
        "id": "H7mvZIxhS5oL"
      },
      "execution_count": 15,
      "outputs": []
    },
    {
      "cell_type": "code",
      "source": [
        "train=np.reshape(train,(len(train),49152))\n",
        "test=np.reshape(test,(len(test),49152))\n",
        "train=scaler.fit_transform(train)\n",
        "test=scaler.fit_transform(test)"
      ],
      "metadata": {
        "id": "sjSvn1I9UE6B"
      },
      "execution_count": 17,
      "outputs": []
    },
    {
      "cell_type": "markdown",
      "source": [
        "**BÀI 1**"
      ],
      "metadata": {
        "id": "V06-fV8vIzIF"
      }
    },
    {
      "cell_type": "code",
      "source": [
        "from sklearn.linear_model import LogisticRegression\n",
        "softmax_reg = LogisticRegression(multi_class=\"multinomial\",solver=\"lbfgs\", C=21)\n",
        "softmax_reg.fit(train, train_lb)\n"
      ],
      "metadata": {
        "id": "RYobxk0xZ23e"
      },
      "execution_count": null,
      "outputs": []
    },
    {
      "cell_type": "code",
      "source": [
        "from sklearn.metrics import accuracy_score\n",
        "y_pre = softmax_reg.predict(test)\n",
        "print('Training size = %d, accuracy = %.2f%%' % \\\n",
        "      (train.shape[0],accuracy_score(test_lb, y_pre)*100))"
      ],
      "metadata": {
        "id": "z3UL3PUjXeCC"
      },
      "execution_count": null,
      "outputs": []
    },
    {
      "cell_type": "markdown",
      "source": [
        "**BÀI 2**"
      ],
      "metadata": {
        "id": "wcrSXZckI3dz"
      }
    },
    {
      "cell_type": "code",
      "source": [
        "from sklearn import svm\n",
        "clf = svm.SVC(decision_function_shape='ovo')\n",
        "clf.fit(train, train_lb)\n"
      ],
      "metadata": {
        "id": "MLhcY07AWsKQ"
      },
      "execution_count": null,
      "outputs": []
    },
    {
      "cell_type": "code",
      "source": [
        "y_pre = clf.predict(test)\n",
        "print('Training size = %d, accuracy = %.2f%%' % \\\n",
        "      (train.shape[0],accuracy_score(test_lb, y_pre)*100))"
      ],
      "metadata": {
        "id": "-9RlpR22Sue-"
      },
      "execution_count": null,
      "outputs": []
    },
    {
      "cell_type": "markdown",
      "source": [
        "**BÀI 3**"
      ],
      "metadata": {
        "id": "z7oPHVAoI72J"
      }
    },
    {
      "cell_type": "code",
      "source": [
        "tm=['/content/VinaFood21/train/banh-can','/content/VinaFood21/train/banh-hoi','/content/VinaFood21/train/banh-mi-chao','/content/VinaFood21/train/banh-tet','/content/VinaFood21/train/banh-trang-tron','/content/VinaFood21/train/banh-u','/content/VinaFood21/train/banh-uot','/content/VinaFood21/train/bap-nuong','/content/VinaFood21/train/bo-kho','/content/VinaFood21/train/bo-la-lot','/content/VinaFood21/train/bot-chien','/content/VinaFood21/train/ca-ri','/content/VinaFood21/train/canh-kho-qua','/content/VinaFood21/train/canh-khoai-mo','/content/VinaFood21/train/ga-nuong','/content/VinaFood21/train/goi-ga','/content/VinaFood21/train/ha-cao','/content/VinaFood21/train/hoanh-thanh-nuoc','/content/VinaFood21/train/pha-lau','/content/VinaFood21/train/tau-hu','/content/VinaFood21/train/thit-kho-trung']\n",
        "train = []\n",
        "train_lb=[]\n",
        "l=0\n",
        "for i in tm:\n",
        "  l=l+1\n",
        "  for filename in glob.glob(i+'/*.jpg'):\n",
        "    image = cv2.imread(filename).sum(axis=2)\n",
        "    ipca = IncrementalPCA(n_components=136)\n",
        "    img = ipca.inverse_transform(ipca.fit_transform(image))\n",
        "    img=cv2.resize(img, (128, 128))\n",
        "    train.append(img)\n",
        "    train_lb.append(l)"
      ],
      "metadata": {
        "id": "YKNV0TIK55o7"
      },
      "execution_count": null,
      "outputs": []
    },
    {
      "cell_type": "code",
      "source": [
        "tm=['/content/VinaFood21/test/banh-can','/content/VinaFood21/test/banh-hoi','/content/VinaFood21/test/banh-mi-chao','/content/VinaFood21/test/banh-tet','/content/VinaFood21/test/banh-trang-tron','/content/VinaFood21/test/banh-u','/content/VinaFood21/test/banh-uot','/content/VinaFood21/test/bap-nuong','/content/VinaFood21/test/bo-kho','/content/VinaFood21/test/bo-la-lot','/content/VinaFood21/test/bot-chien','/content/VinaFood21/test/ca-ri','/content/VinaFood21/test/canh-kho-qua','/content/VinaFood21/test/canh-khoai-mo','/content/VinaFood21/test/ga-nuong','/content/VinaFood21/test/goi-ga','/content/VinaFood21/test/ha-cao','/content/VinaFood21/test/hoanh-thanh-nuoc','/content/VinaFood21/test/pha-lau','/content/VinaFood21/test/tau-hu','/content/VinaFood21/test/thit-kho-trung']\n",
        "test = []\n",
        "test_lb=[]\n",
        "l=0\n",
        "for i in tm:\n",
        "  l=l+1\n",
        "  for filename in glob.glob(i+'/*.jpg'):\n",
        "    image = cv2.imread(filename).sum(axis=2)\n",
        "    ipca = IncrementalPCA(n_components=136)\n",
        "    img = ipca.inverse_transform(ipca.fit_transform(image))\n",
        "    img=cv2.resize(img, (128, 128))\n",
        "    test.append(img)\n",
        "    test_lb.append(l)"
      ],
      "metadata": {
        "id": "bgd-bNvVIhXu"
      },
      "execution_count": null,
      "outputs": []
    },
    {
      "cell_type": "code",
      "source": [
        "train=np.reshape(train,(len(train),16384))\n",
        "test=np.reshape(test,(len(test),16384))\n",
        "train=scaler.fit_transform(train)\n",
        "test=scaler.fit_transform(test)"
      ],
      "metadata": {
        "id": "UYYSOFBzIkJ-"
      },
      "execution_count": null,
      "outputs": []
    },
    {
      "cell_type": "code",
      "source": [
        "from sklearn import svm\n",
        "clf = svm.SVC(decision_function_shape='ovo')\n",
        "clf.fit(train, train_lb)\n",
        "y_pre = clf.predict(test)\n",
        "print('Training size = %d, accuracy = %.2f%%' % \\\n",
        "      (train.shape[0],accuracy_score(test_lb, y_pre)*100))"
      ],
      "metadata": {
        "id": "tqxG0-Q_Ip5u"
      },
      "execution_count": null,
      "outputs": []
    },
    {
      "cell_type": "markdown",
      "source": [
        "Lợi ích sử dụng PCA: giúp giảm thiểu kích thước tính bằng byte của hình ảnh trong khi vẫn giữ được chất lượng hình ảnh nhiều nhất có thể. Cho kết quả tốt hơn"
      ],
      "metadata": {
        "id": "sfmTYZx3M3Kb"
      }
    },
    {
      "cell_type": "code",
      "source": [],
      "metadata": {
        "id": "Na-pp6b3I-4k"
      },
      "execution_count": null,
      "outputs": []
    }
  ]
}